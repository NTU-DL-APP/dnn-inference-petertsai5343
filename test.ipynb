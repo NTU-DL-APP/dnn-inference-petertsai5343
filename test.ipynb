{
 "cells": [
  {
   "cell_type": "code",
   "execution_count": 3,
   "id": "56b88e10",
   "metadata": {},
   "outputs": [
    {
     "name": "stdout",
     "output_type": "stream",
     "text": [
      "Epoch 1/5\n",
      "\u001b[1m844/844\u001b[0m \u001b[32m━━━━━━━━━━━━━━━━━━━━\u001b[0m\u001b[37m\u001b[0m \u001b[1m2s\u001b[0m 2ms/step - accuracy: 0.7703 - loss: 0.6753 - val_accuracy: 0.8487 - val_loss: 0.4215\n",
      "Epoch 2/5\n",
      "\u001b[1m844/844\u001b[0m \u001b[32m━━━━━━━━━━━━━━━━━━━━\u001b[0m\u001b[37m\u001b[0m \u001b[1m2s\u001b[0m 2ms/step - accuracy: 0.8589 - loss: 0.4027 - val_accuracy: 0.8655 - val_loss: 0.3640\n",
      "Epoch 3/5\n",
      "\u001b[1m844/844\u001b[0m \u001b[32m━━━━━━━━━━━━━━━━━━━━\u001b[0m\u001b[37m\u001b[0m \u001b[1m1s\u001b[0m 2ms/step - accuracy: 0.8699 - loss: 0.3649 - val_accuracy: 0.8595 - val_loss: 0.3841\n",
      "Epoch 4/5\n",
      "\u001b[1m844/844\u001b[0m \u001b[32m━━━━━━━━━━━━━━━━━━━━\u001b[0m\u001b[37m\u001b[0m \u001b[1m1s\u001b[0m 2ms/step - accuracy: 0.8769 - loss: 0.3419 - val_accuracy: 0.8663 - val_loss: 0.3511\n",
      "Epoch 5/5\n",
      "\u001b[1m844/844\u001b[0m \u001b[32m━━━━━━━━━━━━━━━━━━━━\u001b[0m\u001b[37m\u001b[0m \u001b[1m2s\u001b[0m 2ms/step - accuracy: 0.8867 - loss: 0.3115 - val_accuracy: 0.8793 - val_loss: 0.3350\n",
      "\u001b[1m313/313\u001b[0m \u001b[32m━━━━━━━━━━━━━━━━━━━━\u001b[0m\u001b[37m\u001b[0m \u001b[1m0s\u001b[0m 1ms/step - accuracy: 0.8739 - loss: 0.3601\n"
     ]
    },
    {
     "name": "stderr",
     "output_type": "stream",
     "text": [
      "WARNING:absl:You are saving your model as an HDF5 file via `model.save()` or `keras.saving.save_model(model)`. This file format is considered legacy. We recommend using instead the native Keras format, e.g. `model.save('my_model.keras')` or `keras.saving.save_model(model, 'my_model.keras')`. \n"
     ]
    },
    {
     "name": "stdout",
     "output_type": "stream",
     "text": [
      "\n",
      "✅ Test accuracy: 0.8729\n",
      "📐 Saved architecture to model/fashion_mnist.json\n",
      "⚖️  Saved weights to model/fashion_mnist.npz\n"
     ]
    }
   ],
   "source": [
    "import tensorflow as tf\n",
    "import numpy as np\n",
    "import json\n",
    "import os\n",
    "\n",
    "# === 建立輸出資料夾 ===\n",
    "os.makedirs(\"model\", exist_ok=True)\n",
    "\n",
    "# === 載入資料集 ===\n",
    "(x_train, y_train), (x_test, y_test) = tf.keras.datasets.fashion_mnist.load_data()\n",
    "x_train = x_train / 255.0\n",
    "x_test = x_test / 255.0\n",
    "\n",
    "# === 建立模型 ===\n",
    "model = tf.keras.Sequential([\n",
    "    tf.keras.layers.Flatten(input_shape=(28, 28), name=\"flatten\"),\n",
    "    tf.keras.layers.Dense(128, activation='relu', name=\"dense_1\"),\n",
    "    tf.keras.layers.Dense(10, activation='softmax', name=\"dense_2\")\n",
    "])\n",
    "\n",
    "# === 編譯與訓練 ===\n",
    "model.compile(optimizer='adam',\n",
    "              loss='sparse_categorical_crossentropy',\n",
    "              metrics=['accuracy'])\n",
    "\n",
    "model.fit(x_train, y_train, epochs=5, batch_size=64, validation_split=0.1)\n",
    "\n",
    "# === 測試模型準確率 ===\n",
    "test_loss, test_acc = model.evaluate(x_test, y_test)\n",
    "print(f\"\\n✅ Test accuracy: {test_acc:.4f}\")\n",
    "\n",
    "# === 儲存 .h5 模型（可選）===\n",
    "model.save(\"model/fashion_mnist.h5\")\n",
    "\n",
    "# === 儲存模型架構為 .json ===\n",
    "arch = []\n",
    "for layer in model.layers:\n",
    "    arch.append({\n",
    "        \"name\": layer.name,\n",
    "        \"type\": layer.__class__.__name__,\n",
    "        \"config\": layer.get_config(),\n",
    "        \"weights\": [w.name for w in layer.weights]\n",
    "    })\n",
    "\n",
    "with open(\"model/fashion_mnist.json\", \"w\") as f:\n",
    "    json.dump(arch, f, indent=2)\n",
    "print(\"📐 Saved architecture to model/fashion_mnist.json\")\n",
    "\n",
    "# === 儲存權重為 .npz ===\n",
    "weights_dict = {}\n",
    "for layer in model.layers:\n",
    "    for w in layer.weights:\n",
    "        weights_dict[w.name] = w.numpy()\n",
    "\n",
    "np.savez(\"model/fashion_mnist.npz\", **weights_dict)\n",
    "print(\"⚖️  Saved weights to model/fashion_mnist.npz\")\n"
   ]
  }
 ],
 "metadata": {
  "kernelspec": {
   "display_name": "torch",
   "language": "python",
   "name": "python3"
  },
  "language_info": {
   "codemirror_mode": {
    "name": "ipython",
    "version": 3
   },
   "file_extension": ".py",
   "mimetype": "text/x-python",
   "name": "python",
   "nbconvert_exporter": "python",
   "pygments_lexer": "ipython3",
   "version": "3.10.16"
  }
 },
 "nbformat": 4,
 "nbformat_minor": 5
}
